{
  "cells": [
    {
      "cell_type": "markdown",
      "metadata": {
        "id": "view-in-github",
        "colab_type": "text"
      },
      "source": [
        "<a href=\"https://colab.research.google.com/github/Farwa-01/SEG_Training_Results_60_Site_DKA_M18_A_Phase/blob/main/AdvancParameter_4_RFE_SVM.ipynb\" target=\"_parent\"><img src=\"https://colab.research.google.com/assets/colab-badge.svg\" alt=\"Open In Colab\"/></a>"
      ]
    },
    {
      "cell_type": "code",
      "source": [
        "# Importing necessary libraries\n",
        "from google.colab import drive\n",
        "import numpy as np\n",
        "import pandas as pd\n",
        "from sklearn.model_selection import train_test_split\n",
        "from sklearn.svm import SVR\n",
        "from sklearn.metrics import mean_squared_error, r2_score, median_absolute_error, explained_variance_score\n",
        "import time\n",
        "\n",
        "# Mount Google Drive\n",
        "drive.mount('/content/drive')\n",
        "\n",
        "# Load the dataset\n",
        "data = pd.read_csv('/content/drive/MyDrive/SEG Forecast/60-Site_DKA-M18_A-Phase.csv')\n",
        "\n",
        "# Drop rows with missing values\n",
        "data.dropna(inplace=True)\n",
        "\n",
        "# Drop non-numeric columns\n",
        "data_numeric = data.select_dtypes(include=[np.number])\n",
        "data_numeric.dropna(inplace=True)\n",
        "\n",
        "# Calculate Pearson correlation coefficients\n",
        "correlation_matrix = data_numeric.corr(method='pearson')\n",
        "\n",
        "# Splitting the dataset into input variables (X) and target variable (y)\n",
        "X = data[['Global_Horizontal_Radiation', 'Weather_Temperature_Celsius',\n",
        "                   'Weather_Relative_Humidity',  'Wind_Speed']]\n",
        "y = data['Active_Power']\n",
        "\n",
        "# Splitting the dataset into training and testing sets\n",
        "X_train, X_test, y_train, y_test = train_test_split(X, y, test_size=0.2, random_state=42)\n",
        "\n",
        "# Creating an SVR model with specified parameters\n",
        "svr_model = SVR(C=1, kernel='rbf', gamma='scale')\n",
        "\n",
        "# Training the model and measuring the training time\n",
        "start_time = time.time()\n",
        "svr_model.fit(X_train, y_train)\n",
        "end_time = time.time()\n",
        "training_time = end_time - start_time\n",
        "\n",
        "# Predicting on the testing set\n",
        "y_pred = svr_model.predict(X_test)\n",
        "\n",
        "# Evaluating the model\n",
        "mse = mean_squared_error(y_test, y_pred)\n",
        "r2 = r2_score(y_test, y_pred)\n",
        "medae = median_absolute_error(y_test, y_pred)\n",
        "evs = explained_variance_score(y_test, y_pred)\n",
        "\n",
        "# Calculate Huber Loss\n",
        "from sklearn.linear_model import HuberRegressor\n",
        "\n",
        "huber_model = HuberRegressor()\n",
        "huber_model.fit(X_train, y_train)\n",
        "y_pred_huber = huber_model.predict(X_test)\n",
        "def huber_loss(y_true, y_pred, delta=1.0):\n",
        "    error = y_true - y_pred\n",
        "    is_small_error = np.abs(error) <= delta\n",
        "    squared_loss = np.square(error) / 2\n",
        "    linear_loss = delta * (np.abs(error) - delta / 2)\n",
        "    return np.where(is_small_error, squared_loss, linear_loss).mean()\n",
        "huber_loss_value = huber_loss(y_test, y_pred_huber)\n",
        "\n",
        "print(\"Support Vector Regression Model\")\n",
        "print(\"Training Time:\", training_time)\n",
        "print(\"Mean Squared Error:\", mse)\n",
        "print(\"R-squared:\", r2)\n",
        "print(\"Median Absolute Error:\", medae)\n",
        "print(\"Explained Variance Score:\", evs)\n",
        "print(\"Huber Loss:\", huber_loss_value)\n"
      ],
      "metadata": {
        "colab": {
          "base_uri": "https://localhost:8080/"
        },
        "id": "tYZ0UMolB95x",
        "outputId": "4f4110cf-2faf-44a0-8cf9-ff4bb955276f"
      },
      "execution_count": null,
      "outputs": [
        {
          "output_type": "stream",
          "name": "stdout",
          "text": [
            "Mounted at /content/drive\n",
            "Support Vector Regression Model\n",
            "Training Time: 1157.9660708904266\n",
            "Mean Squared Error: 0.14445202554919478\n",
            "R-squared: 0.955686984602264\n",
            "Median Absolute Error: 0.058015216068425454\n",
            "Explained Variance Score: 0.9557109421798271\n",
            "Huber Loss: 0.07464453621115658\n"
          ]
        }
      ]
    },
    {
      "cell_type": "code",
      "source": [
        "from sklearn.metrics import mean_absolute_error\n",
        "mae = mean_absolute_error(y_test, y_pred)\n",
        "print(f'Mean Absolute Error: {mae}')"
      ],
      "metadata": {
        "colab": {
          "base_uri": "https://localhost:8080/"
        },
        "id": "y31LDoAlDR52",
        "outputId": "515382e4-abfd-4c36-91e2-8bb114d0757a"
      },
      "execution_count": null,
      "outputs": [
        {
          "output_type": "stream",
          "name": "stdout",
          "text": [
            "Mean Absolute Error: 0.1580039194297861\n"
          ]
        }
      ]
    },
    {
      "cell_type": "code",
      "execution_count": null,
      "metadata": {
        "colab": {
          "base_uri": "https://localhost:8080/"
        },
        "id": "w7YsHUJRE6-t",
        "outputId": "a1a9f7e0-e514-450e-e1b2-1c05d0881e78"
      },
      "outputs": [
        {
          "output_type": "stream",
          "name": "stdout",
          "text": [
            "Root Mean Squared Error (RMSE): 0.3800684485052591\n",
            "Mean Absolute Percentage Error (MAPE): 89370026810573.66\n"
          ]
        }
      ],
      "source": [
        "\n",
        "from sklearn.metrics import mean_absolute_percentage_error\n",
        "\n",
        "\n",
        "# Calculate Root Mean Squared Error (RMSE)\n",
        "rmse = np.sqrt(mse)\n",
        "print(\"Root Mean Squared Error (RMSE):\", rmse)\n",
        "\n",
        "\n",
        "# Calculate Mean Absolute Percentage Error (MAPE)\n",
        "mape = mean_absolute_percentage_error(y_test, y_pred)\n",
        "print(\"Mean Absolute Percentage Error (MAPE):\", mape)\n"
      ]
    }
  ],
  "metadata": {
    "colab": {
      "provenance": [],
      "authorship_tag": "ABX9TyM68XHxPkso1gc5JfImn0kM",
      "include_colab_link": true
    },
    "kernelspec": {
      "display_name": "Python 3",
      "name": "python3"
    },
    "language_info": {
      "name": "python"
    }
  },
  "nbformat": 4,
  "nbformat_minor": 0
}